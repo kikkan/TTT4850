{
 "cells": [
  {
   "cell_type": "code",
   "execution_count": 1,
   "metadata": {},
   "outputs": [
    {
     "name": "stderr",
     "output_type": "stream",
     "text": [
      "c:\\Users\\karlg\\AppData\\Local\\Programs\\Python\\Python310\\lib\\site-packages\\osmnx\\utils.py:192: UserWarning: The `utils.config` function is deprecated and will be removed in a future release. Instead, use the `settings` module directly to configure a global setting's value. For example, `ox.settings.log_console=True`.\n",
      "  warnings.warn(\n"
     ]
    }
   ],
   "source": [
    "import osmnx as ox\n",
    "ox.config(use_cache=True, log_console=True)\n",
    "\n",
    "# create a graph with more edges than you want\n",
    "G = ox.graph_from_place('Piedmont, CA, USA', network_type='drive', simplify=False)\n",
    "\n",
    "# filter graph to retain only certain edge types\n",
    "filtr = ['tertiary', 'tertiary_link', 'secondary', 'unclassified']\n",
    "e = [(u, v, k) for u, v, k, d in G.edges(keys=True, data=True) if d['highway'] not in filtr]\n",
    "G.remove_edges_from(e)\n",
    "\n",
    "# remove any now-disconnected nodes or subcomponents, then simplify toplogy\n",
    "G = ox.utils_graph.get_largest_component(G)\n",
    "G = ox.simplify_graph(G)\n"
   ]
  },
  {
   "cell_type": "code",
   "execution_count": 2,
   "metadata": {},
   "outputs": [
    {
     "ename": "AttributeError",
     "evalue": "'MultiDiGraph' object has no attribute 'plot'",
     "output_type": "error",
     "traceback": [
      "\u001b[1;31m---------------------------------------------------------------------------\u001b[0m",
      "\u001b[1;31mAttributeError\u001b[0m                            Traceback (most recent call last)",
      "Cell \u001b[1;32mIn[2], line 1\u001b[0m\n\u001b[1;32m----> 1\u001b[0m G\u001b[39m.\u001b[39;49mplot()\n",
      "\u001b[1;31mAttributeError\u001b[0m: 'MultiDiGraph' object has no attribute 'plot'"
     ]
    }
   ],
   "source": [
    "G.plot()"
   ]
  }
 ],
 "metadata": {
  "kernelspec": {
   "display_name": "Python 3",
   "language": "python",
   "name": "python3"
  },
  "language_info": {
   "codemirror_mode": {
    "name": "ipython",
    "version": 3
   },
   "file_extension": ".py",
   "mimetype": "text/x-python",
   "name": "python",
   "nbconvert_exporter": "python",
   "pygments_lexer": "ipython3",
   "version": "3.10.7"
  },
  "orig_nbformat": 4,
  "vscode": {
   "interpreter": {
    "hash": "3cf825b4b39ebcdfa097bb9bd6c23f43916faf55c98cb833c90e8d1fc1b95c54"
   }
  }
 },
 "nbformat": 4,
 "nbformat_minor": 2
}
